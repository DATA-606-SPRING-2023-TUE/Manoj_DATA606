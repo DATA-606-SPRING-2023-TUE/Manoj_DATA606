{
 "cells": [
  {
   "cell_type": "code",
   "execution_count": 1,
   "metadata": {},
   "outputs": [],
   "source": [
    "import pandas as pd\n",
    "import numpy as np\n",
    "import matplotlib.pyplot as plt\n",
    "import seaborn as sns\n",
    "import datetime\n",
    "import warnings\n",
    "warnings.filterwarnings('ignore')\n",
    "from datetime import datetime\n",
    "import datetime\n",
    "import calendar\n",
    "from sklearn.compose import ColumnTransformer\n",
    "from sklearn.pipeline import Pipeline\n",
    "from sklearn.impute import SimpleImputer\n",
    "from sklearn.preprocessing import OneHotEncoder\n",
    "from sklearn.linear_model import LogisticRegression\n",
    "from sklearn.preprocessing import StandardScaler\n",
    "from sklearn.metrics import classification_report\n",
    "from sklearn.metrics import roc_curve\n",
    "from sklearn.metrics import roc_auc_score\n",
    "from sklearn.metrics import confusion_matrix\n",
    "from sklearn.decomposition import PCA\n",
    "from sklearn.preprocessing import PolynomialFeatures\n",
    "from sklearn.tree import DecisionTreeClassifier\n",
    "from sklearn.model_selection import GridSearchCV\n",
    "from sklearn.ensemble import RandomForestClassifier\n",
    "from sklearn.svm import SVC\n",
    "from sklearn.metrics import ConfusionMatrixDisplay\n",
    "from sklearn.neighbors import KNeighborsClassifier"
   ]
  },
  {
   "cell_type": "code",
   "execution_count": 2,
   "metadata": {},
   "outputs": [],
   "source": [
    "df = pd.read_csv(\"C:/Users/boyap/Desktop/Final Project/bookings.csv\")"
   ]
  },
  {
   "cell_type": "markdown",
   "metadata": {},
   "source": [
    "# Logistic regression"
   ]
  },
  {
   "cell_type": "code",
   "execution_count": 6,
   "metadata": {},
   "outputs": [],
   "source": [
    "numerics = ['int16', 'int32', 'int64','float64']\n",
    "non_numerics = ['object']\n",
    "\n",
    "numerical_vars = df.select_dtypes(include=numerics).columns \n",
    "categorical_Vars = df.select_dtypes(include=non_numerics).columns\n",
    "#Seperating numerical and categorical variables"
   ]
  },
  {
   "cell_type": "code",
   "execution_count": 7,
   "metadata": {},
   "outputs": [],
   "source": [
    "unwanted = {'Booking_ID','booking_status'}\n",
    "# I have choose keep rest of the features. \n",
    " \n",
    "numerical_list = [ele for ele in numerical_vars if ele not in unwanted]\n",
    "categorical_list = [ele for ele in categorical_Vars if ele not in unwanted]\n",
    "\n",
    "#Removing unwanted column and target variable from the lists and creating final numerical and cetegorical lists"
   ]
  },
  {
   "cell_type": "code",
   "execution_count": 8,
   "metadata": {},
   "outputs": [
    {
     "name": "stdout",
     "output_type": "stream",
     "text": [
      "Numerical variables: no_of_adults, no_of_children, no_of_weekend_nights, no_of_week_nights, required_car_parking_space, lead_time, arrival_year, arrival_month, arrival_date, repeated_guest, no_of_previous_cancellations, no_of_previous_bookings_not_canceled, avg_price_per_room, no_of_special_requests \n",
      "\n",
      "Categorical variables: type_of_meal_plan, room_type_reserved, market_segment_type\n"
     ]
    }
   ],
   "source": [
    "#Printing out the final numerical and categorical lists\n",
    "print(\"Numerical variables:\",', '.join(numerical_list),'\\n')\n",
    "print(\"Categorical variables:\",', '.join(categorical_list))"
   ]
  },
  {
   "cell_type": "code",
   "execution_count": 9,
   "metadata": {},
   "outputs": [
    {
     "name": "stdout",
     "output_type": "stream",
     "text": [
      "Training examples: 29,020\n",
      "Test examples: 7,255\n"
     ]
    }
   ],
   "source": [
    "from sklearn.model_selection import train_test_split\n",
    "\n",
    "#Deifining a splitting function with test to train sample ratio of 20:80% and a random state of 124 to ensure same results.\n",
    "def generate_splits():\n",
    "    y = df['booking_status']\n",
    "    X = df[[x for x in df.columns if x != 'booking_status']]\n",
    "\n",
    "    return train_test_split(X, y, test_size=0.2, random_state=124)\n",
    "\n",
    "X_train, X_test, y_train, y_test = generate_splits()\n",
    "\n",
    "#printing the size of train and test datasets\n",
    "print(f'Training examples: {X_train.shape[0]:,}')\n",
    "print(f'Test examples: {X_test.shape[0]:,}')"
   ]
  },
  {
   "cell_type": "code",
   "execution_count": 10,
   "metadata": {},
   "outputs": [
    {
     "data": {
      "text/plain": [
       "Pipeline(steps=[('data_processing',\n",
       "                 ColumnTransformer(transformers=[('proc_numeric',\n",
       "                                                  Pipeline(steps=[('standardize_num',\n",
       "                                                                   StandardScaler())]),\n",
       "                                                  ['no_of_adults',\n",
       "                                                   'no_of_children',\n",
       "                                                   'no_of_weekend_nights',\n",
       "                                                   'no_of_week_nights',\n",
       "                                                   'required_car_parking_space',\n",
       "                                                   'lead_time', 'arrival_year',\n",
       "                                                   'arrival_month',\n",
       "                                                   'arrival_date',\n",
       "                                                   'repeated_guest',\n",
       "                                                   'no_of_previous_cancellations',\n",
       "                                                   'no_of_previous_bookings_not_canceled',\n",
       "                                                   'avg_price_per_room',\n",
       "                                                   'no_of_special_requests']),\n",
       "                                                 ('create_dummies',\n",
       "                                                  Pipeline(steps=[('create_dummies_cats',\n",
       "                                                                   OneHotEncoder(drop='first'))]),\n",
       "                                                  ['type_of_meal_plan',\n",
       "                                                   'room_type_reserved',\n",
       "                                                   'market_segment_type'])])),\n",
       "                ('pca', PCA(n_components=5)),\n",
       "                ('logreg', LogisticRegression(max_iter=1000))])"
      ]
     },
     "execution_count": 10,
     "metadata": {},
     "output_type": "execute_result"
    }
   ],
   "source": [
    "#defining a numerical pipeline with standard scaler which standardizes the features of the data\n",
    "num_pipeline = Pipeline([('standardize_num', StandardScaler())])\n",
    "\n",
    "#defiing a categorical pipeline with one hot encoder which encodes the data into integer values\n",
    "cat_pipeline = Pipeline([('create_dummies_cats', OneHotEncoder(handle_unknown='error', drop='first'))])\n",
    "\n",
    "\n",
    "#merging both numerical and categorical pipelines into one processing pipeline.\n",
    "processing_pipeline = ColumnTransformer(transformers=[('proc_numeric', num_pipeline, numerical_list),\n",
    "                                                      ('create_dummies', cat_pipeline, categorical_list)])\n",
    "\n",
    "\n",
    "#Creating a logistic regression pipeline which manages the data and also applies logistic regression classifier on the data\n",
    "lr_pipeline = Pipeline([('data_processing', processing_pipeline),\n",
    "                              ('pca', PCA(n_components=5)),\n",
    "                              ('logreg', LogisticRegression(penalty='l2', max_iter = 1000))])\n",
    "lr_pipeline.fit(X_train, y_train)"
   ]
  },
  {
   "cell_type": "code",
   "execution_count": 11,
   "metadata": {},
   "outputs": [],
   "source": [
    "num_pipeline = Pipeline([('standardize_num', StandardScaler())])\n",
    "\n",
    "cat_pipeline = Pipeline([('create_dummies_cats', OneHotEncoder(handle_unknown='error', drop='first'))])\n",
    "\n",
    "processing_pipeline = ColumnTransformer(transformers=[('proc_numeric', num_pipeline, numerical_list),\n",
    "                                                      ('create_dummies', cat_pipeline, categorical_list)])"
   ]
  },
  {
   "cell_type": "code",
   "execution_count": 12,
   "metadata": {},
   "outputs": [
    {
     "name": "stdout",
     "output_type": "stream",
     "text": [
      "Fitting 5 folds for each of 4 candidates, totalling 20 fits\n",
      "[CV] logreg__C=0.01 ..................................................\n"
     ]
    },
    {
     "name": "stderr",
     "output_type": "stream",
     "text": [
      "[Parallel(n_jobs=1)]: Using backend SequentialBackend with 1 concurrent workers.\n"
     ]
    },
    {
     "name": "stdout",
     "output_type": "stream",
     "text": [
      "[CV] ...................... logreg__C=0.01, score=0.747, total=   0.5s\n",
      "[CV] logreg__C=0.01 ..................................................\n"
     ]
    },
    {
     "name": "stderr",
     "output_type": "stream",
     "text": [
      "[Parallel(n_jobs=1)]: Done   1 out of   1 | elapsed:    0.4s remaining:    0.0s\n"
     ]
    },
    {
     "name": "stdout",
     "output_type": "stream",
     "text": [
      "[CV] ...................... logreg__C=0.01, score=0.757, total=   0.6s\n",
      "[CV] logreg__C=0.01 ..................................................\n"
     ]
    },
    {
     "name": "stderr",
     "output_type": "stream",
     "text": [
      "[Parallel(n_jobs=1)]: Done   2 out of   2 | elapsed:    1.0s remaining:    0.0s\n"
     ]
    },
    {
     "name": "stdout",
     "output_type": "stream",
     "text": [
      "[CV] ...................... logreg__C=0.01, score=0.772, total=   0.7s\n",
      "[CV] logreg__C=0.01 ..................................................\n"
     ]
    },
    {
     "name": "stderr",
     "output_type": "stream",
     "text": [
      "[Parallel(n_jobs=1)]: Done   3 out of   3 | elapsed:    1.7s remaining:    0.0s\n"
     ]
    },
    {
     "name": "stdout",
     "output_type": "stream",
     "text": [
      "[CV] ...................... logreg__C=0.01, score=0.760, total=   1.0s\n",
      "[CV] logreg__C=0.01 ..................................................\n"
     ]
    },
    {
     "name": "stderr",
     "output_type": "stream",
     "text": [
      "[Parallel(n_jobs=1)]: Done   4 out of   4 | elapsed:    2.8s remaining:    0.0s\n"
     ]
    },
    {
     "name": "stdout",
     "output_type": "stream",
     "text": [
      "[CV] ...................... logreg__C=0.01, score=0.761, total=   0.7s\n",
      "[CV] logreg__C=1.0 ...................................................\n"
     ]
    },
    {
     "name": "stderr",
     "output_type": "stream",
     "text": [
      "[Parallel(n_jobs=1)]: Done   5 out of   5 | elapsed:    3.5s remaining:    0.0s\n"
     ]
    },
    {
     "name": "stdout",
     "output_type": "stream",
     "text": [
      "[CV] ....................... logreg__C=1.0, score=0.758, total=   0.9s\n",
      "[CV] logreg__C=1.0 ...................................................\n"
     ]
    },
    {
     "name": "stderr",
     "output_type": "stream",
     "text": [
      "[Parallel(n_jobs=1)]: Done   6 out of   6 | elapsed:    4.4s remaining:    0.0s\n"
     ]
    },
    {
     "name": "stdout",
     "output_type": "stream",
     "text": [
      "[CV] ....................... logreg__C=1.0, score=0.764, total=   0.5s\n",
      "[CV] logreg__C=1.0 ...................................................\n"
     ]
    },
    {
     "name": "stderr",
     "output_type": "stream",
     "text": [
      "[Parallel(n_jobs=1)]: Done   7 out of   7 | elapsed:    4.9s remaining:    0.0s\n"
     ]
    },
    {
     "name": "stdout",
     "output_type": "stream",
     "text": [
      "[CV] ....................... logreg__C=1.0, score=0.774, total=   0.6s\n",
      "[CV] logreg__C=1.0 ...................................................\n"
     ]
    },
    {
     "name": "stderr",
     "output_type": "stream",
     "text": [
      "[Parallel(n_jobs=1)]: Done   8 out of   8 | elapsed:    5.5s remaining:    0.0s\n"
     ]
    },
    {
     "name": "stdout",
     "output_type": "stream",
     "text": [
      "[CV] ....................... logreg__C=1.0, score=0.762, total=   0.5s\n",
      "[CV] logreg__C=1.0 ...................................................\n"
     ]
    },
    {
     "name": "stderr",
     "output_type": "stream",
     "text": [
      "[Parallel(n_jobs=1)]: Done   9 out of   9 | elapsed:    6.0s remaining:    0.0s\n"
     ]
    },
    {
     "name": "stdout",
     "output_type": "stream",
     "text": [
      "[CV] ....................... logreg__C=1.0, score=0.769, total=   1.0s\n",
      "[CV] logreg__C=5.0 ...................................................\n",
      "[CV] ....................... logreg__C=5.0, score=0.759, total=   0.5s\n",
      "[CV] logreg__C=5.0 ...................................................\n",
      "[CV] ....................... logreg__C=5.0, score=0.764, total=   0.5s\n",
      "[CV] logreg__C=5.0 ...................................................\n",
      "[CV] ....................... logreg__C=5.0, score=0.774, total=   0.5s\n",
      "[CV] logreg__C=5.0 ...................................................\n",
      "[CV] ....................... logreg__C=5.0, score=0.763, total=   0.5s\n",
      "[CV] logreg__C=5.0 ...................................................\n",
      "[CV] ....................... logreg__C=5.0, score=0.769, total=   0.5s\n",
      "[CV] logreg__C=10 ....................................................\n",
      "[CV] ........................ logreg__C=10, score=0.758, total=   0.4s\n",
      "[CV] logreg__C=10 ....................................................\n",
      "[CV] ........................ logreg__C=10, score=0.764, total=   0.5s\n",
      "[CV] logreg__C=10 ....................................................\n",
      "[CV] ........................ logreg__C=10, score=0.774, total=   0.5s\n",
      "[CV] logreg__C=10 ....................................................\n",
      "[CV] ........................ logreg__C=10, score=0.763, total=   0.6s\n",
      "[CV] logreg__C=10 ....................................................\n",
      "[CV] ........................ logreg__C=10, score=0.769, total=   0.4s\n"
     ]
    },
    {
     "name": "stderr",
     "output_type": "stream",
     "text": [
      "[Parallel(n_jobs=1)]: Done  20 out of  20 | elapsed:   12.0s finished\n"
     ]
    },
    {
     "data": {
      "text/plain": [
       "Pipeline(steps=[('data_processing',\n",
       "                 ColumnTransformer(transformers=[('proc_numeric',\n",
       "                                                  Pipeline(steps=[('standardize_num',\n",
       "                                                                   StandardScaler())]),\n",
       "                                                  ['no_of_adults',\n",
       "                                                   'no_of_children',\n",
       "                                                   'no_of_weekend_nights',\n",
       "                                                   'no_of_week_nights',\n",
       "                                                   'required_car_parking_space',\n",
       "                                                   'lead_time', 'arrival_year',\n",
       "                                                   'arrival_month',\n",
       "                                                   'arrival_date',\n",
       "                                                   'repeated_guest',\n",
       "                                                   'no_of_previous_cancellations',\n",
       "                                                   'no_of_previous_bookings_not_canceled',\n",
       "                                                   'avg_price_per_room',\n",
       "                                                   'no_of_special_requests']),\n",
       "                                                 ('create_dummies',\n",
       "                                                  Pipeline(steps=[('create_dummies_cats',\n",
       "                                                                   OneHotEncoder(drop='first'))]),\n",
       "                                                  ['type_of_meal_plan',\n",
       "                                                   'room_type_reserved',\n",
       "                                                   'market_segment_type'])])),\n",
       "                ('pca', PCA(n_components=5)),\n",
       "                ('logreg', LogisticRegression(C=5.0, max_iter=1000))])"
      ]
     },
     "execution_count": 12,
     "metadata": {},
     "output_type": "execute_result"
    }
   ],
   "source": [
    "#Using gridsearchcv and fitting the data with training dataset\n",
    "#Primary grid search\n",
    "%timeit \n",
    "\n",
    "parameters = {'logreg__C':[0.01,1.0,5.0,10]} \n",
    "\n",
    "logistic_reg = GridSearchCV(lr_pipeline, param_grid = parameters, scoring='accuracy', cv = 5, refit = True, verbose = 10) \n",
    "logistic_reg = logistic_reg.fit(X_train, y_train)\n",
    "\n",
    "logistic_reg.best_estimator_"
   ]
  },
  {
   "cell_type": "code",
   "execution_count": 13,
   "metadata": {},
   "outputs": [
    {
     "name": "stdout",
     "output_type": "stream",
     "text": [
      "Fitting 5 folds for each of 5 candidates, totalling 25 fits\n",
      "[CV] logreg__C=10 ....................................................\n"
     ]
    },
    {
     "name": "stderr",
     "output_type": "stream",
     "text": [
      "[Parallel(n_jobs=1)]: Using backend SequentialBackend with 1 concurrent workers.\n"
     ]
    },
    {
     "name": "stdout",
     "output_type": "stream",
     "text": [
      "[CV] ........................ logreg__C=10, score=0.758, total=   0.6s\n",
      "[CV] logreg__C=10 ....................................................\n"
     ]
    },
    {
     "name": "stderr",
     "output_type": "stream",
     "text": [
      "[Parallel(n_jobs=1)]: Done   1 out of   1 | elapsed:    0.5s remaining:    0.0s\n"
     ]
    },
    {
     "name": "stdout",
     "output_type": "stream",
     "text": [
      "[CV] ........................ logreg__C=10, score=0.764, total=   0.6s\n",
      "[CV] logreg__C=10 ....................................................\n"
     ]
    },
    {
     "name": "stderr",
     "output_type": "stream",
     "text": [
      "[Parallel(n_jobs=1)]: Done   2 out of   2 | elapsed:    1.1s remaining:    0.0s\n"
     ]
    },
    {
     "name": "stdout",
     "output_type": "stream",
     "text": [
      "[CV] ........................ logreg__C=10, score=0.774, total=   0.5s\n",
      "[CV] logreg__C=10 ....................................................\n"
     ]
    },
    {
     "name": "stderr",
     "output_type": "stream",
     "text": [
      "[Parallel(n_jobs=1)]: Done   3 out of   3 | elapsed:    1.7s remaining:    0.0s\n"
     ]
    },
    {
     "name": "stdout",
     "output_type": "stream",
     "text": [
      "[CV] ........................ logreg__C=10, score=0.763, total=   0.5s\n",
      "[CV] logreg__C=10 ....................................................\n"
     ]
    },
    {
     "name": "stderr",
     "output_type": "stream",
     "text": [
      "[Parallel(n_jobs=1)]: Done   4 out of   4 | elapsed:    2.2s remaining:    0.0s\n"
     ]
    },
    {
     "name": "stdout",
     "output_type": "stream",
     "text": [
      "[CV] ........................ logreg__C=10, score=0.769, total=   0.4s\n",
      "[CV] logreg__C=12 ....................................................\n"
     ]
    },
    {
     "name": "stderr",
     "output_type": "stream",
     "text": [
      "[Parallel(n_jobs=1)]: Done   5 out of   5 | elapsed:    2.6s remaining:    0.0s\n"
     ]
    },
    {
     "name": "stdout",
     "output_type": "stream",
     "text": [
      "[CV] ........................ logreg__C=12, score=0.758, total=   0.5s\n",
      "[CV] logreg__C=12 ....................................................\n"
     ]
    },
    {
     "name": "stderr",
     "output_type": "stream",
     "text": [
      "[Parallel(n_jobs=1)]: Done   6 out of   6 | elapsed:    3.1s remaining:    0.0s\n"
     ]
    },
    {
     "name": "stdout",
     "output_type": "stream",
     "text": [
      "[CV] ........................ logreg__C=12, score=0.764, total=   0.6s\n",
      "[CV] logreg__C=12 ....................................................\n"
     ]
    },
    {
     "name": "stderr",
     "output_type": "stream",
     "text": [
      "[Parallel(n_jobs=1)]: Done   7 out of   7 | elapsed:    3.8s remaining:    0.0s\n"
     ]
    },
    {
     "name": "stdout",
     "output_type": "stream",
     "text": [
      "[CV] ........................ logreg__C=12, score=0.774, total=   0.6s\n",
      "[CV] logreg__C=12 ....................................................\n"
     ]
    },
    {
     "name": "stderr",
     "output_type": "stream",
     "text": [
      "[Parallel(n_jobs=1)]: Done   8 out of   8 | elapsed:    4.4s remaining:    0.0s\n"
     ]
    },
    {
     "name": "stdout",
     "output_type": "stream",
     "text": [
      "[CV] ........................ logreg__C=12, score=0.763, total=   0.5s\n",
      "[CV] logreg__C=12 ....................................................\n"
     ]
    },
    {
     "name": "stderr",
     "output_type": "stream",
     "text": [
      "[Parallel(n_jobs=1)]: Done   9 out of   9 | elapsed:    4.9s remaining:    0.0s\n"
     ]
    },
    {
     "name": "stdout",
     "output_type": "stream",
     "text": [
      "[CV] ........................ logreg__C=12, score=0.769, total=   0.5s\n",
      "[CV] logreg__C=15 ....................................................\n",
      "[CV] ........................ logreg__C=15, score=0.758, total=   0.7s\n",
      "[CV] logreg__C=15 ....................................................\n",
      "[CV] ........................ logreg__C=15, score=0.764, total=   0.6s\n",
      "[CV] logreg__C=15 ....................................................\n",
      "[CV] ........................ logreg__C=15, score=0.774, total=   0.5s\n",
      "[CV] logreg__C=15 ....................................................\n",
      "[CV] ........................ logreg__C=15, score=0.763, total=   0.6s\n",
      "[CV] logreg__C=15 ....................................................\n",
      "[CV] ........................ logreg__C=15, score=0.769, total=   0.7s\n",
      "[CV] logreg__C=16 ....................................................\n",
      "[CV] ........................ logreg__C=16, score=0.758, total=   0.6s\n",
      "[CV] logreg__C=16 ....................................................\n",
      "[CV] ........................ logreg__C=16, score=0.765, total=   1.0s\n",
      "[CV] logreg__C=16 ....................................................\n",
      "[CV] ........................ logreg__C=16, score=0.774, total=   0.7s\n",
      "[CV] logreg__C=16 ....................................................\n",
      "[CV] ........................ logreg__C=16, score=0.763, total=   0.6s\n",
      "[CV] logreg__C=16 ....................................................\n",
      "[CV] ........................ logreg__C=16, score=0.769, total=   0.6s\n",
      "[CV] logreg__C=20 ....................................................\n",
      "[CV] ........................ logreg__C=20, score=0.758, total=   0.5s\n",
      "[CV] logreg__C=20 ....................................................\n",
      "[CV] ........................ logreg__C=20, score=0.764, total=   0.7s\n",
      "[CV] logreg__C=20 ....................................................\n",
      "[CV] ........................ logreg__C=20, score=0.774, total=   0.8s\n",
      "[CV] logreg__C=20 ....................................................\n",
      "[CV] ........................ logreg__C=20, score=0.763, total=   0.7s\n",
      "[CV] logreg__C=20 ....................................................\n",
      "[CV] ........................ logreg__C=20, score=0.769, total=   0.6s\n"
     ]
    },
    {
     "name": "stderr",
     "output_type": "stream",
     "text": [
      "[Parallel(n_jobs=1)]: Done  25 out of  25 | elapsed:   15.3s finished\n"
     ]
    },
    {
     "data": {
      "text/plain": [
       "Pipeline(steps=[('data_processing',\n",
       "                 ColumnTransformer(transformers=[('proc_numeric',\n",
       "                                                  Pipeline(steps=[('standardize_num',\n",
       "                                                                   StandardScaler())]),\n",
       "                                                  ['no_of_adults',\n",
       "                                                   'no_of_children',\n",
       "                                                   'no_of_weekend_nights',\n",
       "                                                   'no_of_week_nights',\n",
       "                                                   'required_car_parking_space',\n",
       "                                                   'lead_time', 'arrival_year',\n",
       "                                                   'arrival_month',\n",
       "                                                   'arrival_date',\n",
       "                                                   'repeated_guest',\n",
       "                                                   'no_of_previous_cancellations',\n",
       "                                                   'no_of_previous_bookings_not_canceled',\n",
       "                                                   'avg_price_per_room',\n",
       "                                                   'no_of_special_requests']),\n",
       "                                                 ('create_dummies',\n",
       "                                                  Pipeline(steps=[('create_dummies_cats',\n",
       "                                                                   OneHotEncoder(drop='first'))]),\n",
       "                                                  ['type_of_meal_plan',\n",
       "                                                   'room_type_reserved',\n",
       "                                                   'market_segment_type'])])),\n",
       "                ('pca', PCA(n_components=5)),\n",
       "                ('logreg', LogisticRegression(C=16, max_iter=1000))])"
      ]
     },
     "execution_count": 13,
     "metadata": {},
     "output_type": "execute_result"
    }
   ],
   "source": [
    "#Performing a secondary search with different parameter values\n",
    "parameters = {'logreg__C':[10,12,15,16,20]} \n",
    "\n",
    "logistic_reg_2 = GridSearchCV(lr_pipeline, param_grid = parameters, scoring='accuracy', cv = 5, refit = True, verbose = 10) \n",
    "logistic_reg_2 = logistic_reg_2.fit(X_train, y_train)\n",
    "\n",
    "logistic_reg_2.best_estimator_"
   ]
  },
  {
   "cell_type": "code",
   "execution_count": 14,
   "metadata": {},
   "outputs": [
    {
     "name": "stdout",
     "output_type": "stream",
     "text": [
      "              precision    recall  f1-score   support\n",
      "\n",
      "    Canceled       0.72      0.50      0.59      2395\n",
      "Not_Canceled       0.79      0.90      0.84      4860\n",
      "\n",
      "    accuracy                           0.77      7255\n",
      "   macro avg       0.75      0.70      0.71      7255\n",
      "weighted avg       0.76      0.77      0.76      7255\n",
      "\n"
     ]
    }
   ],
   "source": [
    "#obtianing a classification report using predicted values\n",
    "y_hat = logistic_reg_2.predict(X_test)\n",
    "    \n",
    "print(classification_report(y_test, y_hat))\n",
    "#Logistic Regression model with 77% accuracy"
   ]
  },
  {
   "cell_type": "code",
   "execution_count": 15,
   "metadata": {},
   "outputs": [
    {
     "name": "stdout",
     "output_type": "stream",
     "text": [
      "The score of this logistic regression model is : 0.7691247415575465\n"
     ]
    }
   ],
   "source": [
    "print(\"The score of this logistic regression model is :\",logistic_reg_2.score(X_test, y_test))"
   ]
  },
  {
   "cell_type": "code",
   "execution_count": 16,
   "metadata": {},
   "outputs": [
    {
     "name": "stdout",
     "output_type": "stream",
     "text": [
      "[[1195 1200]\n",
      " [ 475 4385]]\n"
     ]
    }
   ],
   "source": [
    "print(confusion_matrix(y_test, y_hat))"
   ]
  },
  {
   "cell_type": "markdown",
   "metadata": {},
   "source": [
    "This model has pipeline which pre-processes the data using standard scaler and one hot encoder. It then applies logistic regression classifier on the data and also has two levels of hyperparameter searching done using GridSearchCV. This model has an accuracy of 0.77. The accuracy might seem desirable but still can get better. The precision, recall and f1-score values are higher while predicting \"Not_Canceled\" but very low while predicting \"Canceled\". This model is incomplete and should not be used unless there is no other alternative."
   ]
  },
  {
   "cell_type": "markdown",
   "metadata": {},
   "source": [
    "# Decision Tree"
   ]
  },
  {
   "cell_type": "code",
   "execution_count": 23,
   "metadata": {},
   "outputs": [
    {
     "data": {
      "text/plain": [
       "Pipeline(steps=[('data_processing',\n",
       "                 ColumnTransformer(transformers=[('proc_numeric',\n",
       "                                                  Pipeline(steps=[('standardize_num',\n",
       "                                                                   StandardScaler())]),\n",
       "                                                  ['no_of_adults',\n",
       "                                                   'no_of_children',\n",
       "                                                   'no_of_weekend_nights',\n",
       "                                                   'no_of_week_nights',\n",
       "                                                   'required_car_parking_space',\n",
       "                                                   'lead_time', 'arrival_year',\n",
       "                                                   'arrival_month',\n",
       "                                                   'arrival_date',\n",
       "                                                   'repeated_guest',\n",
       "                                                   'no_of_previous_cancellations',\n",
       "                                                   'no_of_previous_bookings_not_canceled',\n",
       "                                                   'avg_price_per_room',\n",
       "                                                   'no_of_special_requests']),\n",
       "                                                 ('create_dummies',\n",
       "                                                  Pipeline(steps=[('create_dummies_cats',\n",
       "                                                                   OneHotEncoder(drop='first'))]),\n",
       "                                                  ['type_of_meal_plan',\n",
       "                                                   'room_type_reserved',\n",
       "                                                   'market_segment_type'])])),\n",
       "                ('dt',\n",
       "                 DecisionTreeClassifier(max_depth=15, min_samples_leaf=2,\n",
       "                                        min_samples_split=10))])"
      ]
     },
     "execution_count": 23,
     "metadata": {},
     "output_type": "execute_result"
    }
   ],
   "source": [
    "#Deinfing a pipeine whihc used the previos preporcessing pipeline and decision tree classifier\n",
    "modeling_pipeline = Pipeline([\n",
    "    ('data_processing', processing_pipeline),\n",
    "    ('dt', DecisionTreeClassifier())]\n",
    ")\n",
    "\n",
    "#defining parameters for the grid search\n",
    "#this is the primary grid sarch\n",
    "param_grid = [\n",
    "  {'dt__max_depth': [2, 5, 10, 15, 20],\n",
    "   'dt__min_samples_split':[3, 5, 10, 20, 40],\n",
    "   'dt__min_samples_leaf': [2, 5],\n",
    "   'dt__class_weight':[None, 'balanced']\n",
    "  }\n",
    " ]\n",
    "\n",
    "dt_results = GridSearchCV(estimator=modeling_pipeline, \n",
    "                           param_grid=param_grid, scoring='accuracy', refit=True)\n",
    "dt_results = dt_results.fit(X_train, y_train)\n",
    "\n",
    "#best_estimator_ gives the best estimator choosen by the search.\n",
    "dt_results.best_estimator_"
   ]
  },
  {
   "cell_type": "code",
   "execution_count": 24,
   "metadata": {},
   "outputs": [
    {
     "data": {
      "text/plain": [
       "Pipeline(steps=[('data_processing',\n",
       "                 ColumnTransformer(transformers=[('proc_numeric',\n",
       "                                                  Pipeline(steps=[('standardize_num',\n",
       "                                                                   StandardScaler())]),\n",
       "                                                  ['no_of_adults',\n",
       "                                                   'no_of_children',\n",
       "                                                   'no_of_weekend_nights',\n",
       "                                                   'no_of_week_nights',\n",
       "                                                   'required_car_parking_space',\n",
       "                                                   'lead_time', 'arrival_year',\n",
       "                                                   'arrival_month',\n",
       "                                                   'arrival_date',\n",
       "                                                   'repeated_guest',\n",
       "                                                   'no_of_previous_cancellations',\n",
       "                                                   'no_of_previous_bookings_not_canceled',\n",
       "                                                   'avg_price_per_room',\n",
       "                                                   'no_of_special_requests']),\n",
       "                                                 ('create_dummies',\n",
       "                                                  Pipeline(steps=[('create_dummies_cats',\n",
       "                                                                   OneHotEncoder(drop='first'))]),\n",
       "                                                  ['type_of_meal_plan',\n",
       "                                                   'room_type_reserved',\n",
       "                                                   'market_segment_type'])])),\n",
       "                ('dt',\n",
       "                 DecisionTreeClassifier(max_depth=15, min_samples_leaf=5,\n",
       "                                        min_samples_split=20))])"
      ]
     },
     "execution_count": 24,
     "metadata": {},
     "output_type": "execute_result"
    }
   ],
   "source": [
    "#secondary grid search with updates values\n",
    "param_grid = [\n",
    "  {'dt__max_depth': [15, 16, 19, 20, 25],\n",
    "   'dt__min_samples_split':[3, 5, 10, 20, 40],\n",
    "   'dt__min_samples_leaf': [5, 10],\n",
    "   'dt__class_weight':[None, 'balanced']\n",
    "  }\n",
    " ]\n",
    "\n",
    "dt_results_2 = GridSearchCV(estimator=modeling_pipeline, \n",
    "                           param_grid=param_grid, scoring='accuracy', refit=True)\n",
    "dt_results_2 = dt_results_2.fit(X_train, y_train)\n",
    "\n",
    "dt_results_2.best_estimator_"
   ]
  },
  {
   "cell_type": "markdown",
   "metadata": {},
   "source": [
    "This estimator is better than the last one. The parameters from the secondary grid search are final."
   ]
  },
  {
   "cell_type": "code",
   "execution_count": 25,
   "metadata": {},
   "outputs": [
    {
     "name": "stdout",
     "output_type": "stream",
     "text": [
      "              precision    recall  f1-score   support\n",
      "\n",
      "    Canceled       0.82      0.80      0.81      2395\n",
      "Not_Canceled       0.90      0.91      0.91      4860\n",
      "\n",
      "    accuracy                           0.87      7255\n",
      "   macro avg       0.86      0.86      0.86      7255\n",
      "weighted avg       0.87      0.87      0.87      7255\n",
      "\n"
     ]
    }
   ],
   "source": [
    "#obtianing a classification report using predicted values\n",
    "y_testp = dt_results_2.predict(X_test)\n",
    "\n",
    "print(classification_report(y_test, y_testp))\n",
    "#Decision tree classifier with an accuracy of 0.88"
   ]
  },
  {
   "cell_type": "code",
   "execution_count": 26,
   "metadata": {},
   "outputs": [
    {
     "name": "stdout",
     "output_type": "stream",
     "text": [
      "[[1921  474]\n",
      " [ 435 4425]]\n"
     ]
    }
   ],
   "source": [
    "print(confusion_matrix(y_test, y_testp))"
   ]
  },
  {
   "cell_type": "markdown",
   "metadata": {},
   "source": [
    "This model has pipeline which pre-processes the data using standard scaler and one hot encoder. It then applies decision tree classifier on the data and also has two levels of hyperparameter searching done using GridSearchCV. This model has an accuracy of 88%. This model also has good precision recall and f-score values while prediciting both 'canceled' and 'not_canceled' values but its ability to correctly predict \"not_canceled\" values is higher than to predict \"canceled\" . This is better than the logistic regression conducted before in terms of accuracy, precision and recall values. The run time of this classifier is also pretty low compared to other models like Random forest and Grdient boosting classifiers. The \"dt_results_2\" is the final model with the best estimator."
   ]
  },
  {
   "cell_type": "markdown",
   "metadata": {},
   "source": [
    "# ROC-AUC Curve"
   ]
  },
  {
   "cell_type": "code",
   "execution_count": 27,
   "metadata": {},
   "outputs": [
    {
     "data": {
      "image/png": "[encoded data removed]",
      "text/plain": [
       "<Figure size 432x288 with 1 Axes>"
      ]
     },
     "metadata": {
      "needs_background": "light"
     },
     "output_type": "display_data"
    }
   ],
   "source": [
    "from sklearn.metrics import roc_curve\n",
    "\n",
    "def generate_probs_2(X, model=dt_results_2):\n",
    "    return model.predict_proba(X)[:, 1]\n",
    "\n",
    "def generate_roc_2(y, probs):\n",
    "    fpr, tpr, _ = roc_curve(y, probs)\n",
    "    return fpr, tpr\n",
    " \n",
    "y_test_ROC = y_test.map({'Canceled':0, 'Not_Canceled':1}).astype(int)\n",
    "y_train_ROC = y_train.map({'Canceled':0, 'Not_Canceled':1}).astype(int)\n",
    "\n",
    "fpr_test, tpr_test = generate_roc_2(y_test_ROC, generate_probs_2(X_test))\n",
    "fpr_train, tpr_train = generate_roc_2(y_train_ROC, generate_probs_2(X_train))\n",
    "\n",
    "plt.plot(fpr_test, tpr_test,'-r')\n",
    "plt.plot(fpr_train, tpr_train,'-b')\n",
    "plt.xlabel('False Positive Rate')\n",
    "plt.ylabel('True Positive Rate')\n",
    "plt.legend(['Test','Training'])\n",
    "plt.plot([0, 1], [0, 1], color='navy', linestyle='--')\n",
    "plt.show()"
   ]
  },
  {
   "cell_type": "code",
   "execution_count": 28,
   "metadata": {},
   "outputs": [
    {
     "name": "stdout",
     "output_type": "stream",
     "text": [
      "The ROC-AOC score of this model is 0.9364347448817409\n"
     ]
    }
   ],
   "source": [
    "print(\"The ROC-AOC score of this model is\",roc_auc_score(y_test, generate_probs_2(X_test)))"
   ]
  },
  {
   "cell_type": "markdown",
   "metadata": {},
   "source": [
    "This model also has better ROC-AOC score than the first model. Which means that the model is better equipped to identify and seperate the two classes. This model can be viable if the accuracy does not increase in the futher models."
   ]
  },
  {
   "cell_type": "code",
   "execution_count": 31,
   "metadata": {},
   "outputs": [
    {
     "data": {
      "text/plain": [
       "Pipeline(steps=[('data_processing',\n",
       "                 ColumnTransformer(transformers=[('proc_numeric',\n",
       "                                                  Pipeline(steps=[('standardize_num',\n",
       "                                                                   StandardScaler())]),\n",
       "                                                  ['no_of_adults',\n",
       "                                                   'no_of_children',\n",
       "                                                   'no_of_weekend_nights',\n",
       "                                                   'no_of_week_nights',\n",
       "                                                   'required_car_parking_space',\n",
       "                                                   'lead_time', 'arrival_year',\n",
       "                                                   'arrival_month',\n",
       "                                                   'arrival_date',\n",
       "                                                   'repeated_guest',\n",
       "                                                   'no_of_previous_cancellations',\n",
       "                                                   'no_of_previous_bookings_not_canceled',\n",
       "                                                   'avg_price_per_room',\n",
       "                                                   'no_of_special_requests']),\n",
       "                                                 ('create_dummies',\n",
       "                                                  Pipeline(steps=[('create_dummies_cats',\n",
       "                                                                   OneHotEncoder(drop='first'))]),\n",
       "                                                  ['type_of_meal_plan',\n",
       "                                                   'room_type_reserved',\n",
       "                                                   'market_segment_type'])])),\n",
       "                ('rf', RandomForestClassifier(max_depth=12, max_samples=5000))])"
      ]
     },
     "execution_count": 31,
     "metadata": {},
     "output_type": "execute_result"
    }
   ],
   "source": [
    "#Creating a random forest pipeline with data processing pipeline from the previous steps and using rendom forest classifier.\n",
    "rf_pipeline = Pipeline([\n",
    "    ('data_processing', processing_pipeline),\n",
    "    ('rf', RandomForestClassifier())]\n",
    ")\n",
    "\n",
    "#choosing parameters for hyper parameter searching\n",
    "#this is primary serach\n",
    "param_grid = [{'rf__max_depth': [5, 8, 10, 12],\n",
    "               'rf__n_estimators': [10, 50, 100],\n",
    "               'rf__class_weight': [None, 'balanced', 'balanced_subsample'],\n",
    "               'rf__max_samples': [1000, 2000, 5000]\n",
    "              }]\n",
    "\n",
    "rf_results = GridSearchCV(estimator=rf_pipeline, param_grid=param_grid, scoring='accuracy', refit=True)\n",
    "rf_results = rf_results.fit(X_train, y_train)\n",
    "rf_yhat = rf_results.predict(X_test)\n",
    "\n",
    "#getting the best estimator\n",
    "rf_results.best_estimator_"
   ]
  },
  {
   "cell_type": "code",
   "execution_count": 32,
   "metadata": {},
   "outputs": [
    {
     "data": {
      "text/plain": [
       "Pipeline(steps=[('data_processing',\n",
       "                 ColumnTransformer(transformers=[('proc_numeric',\n",
       "                                                  Pipeline(steps=[('standardize_num',\n",
       "                                                                   StandardScaler())]),\n",
       "                                                  ['no_of_adults',\n",
       "                                                   'no_of_children',\n",
       "                                                   'no_of_weekend_nights',\n",
       "                                                   'no_of_week_nights',\n",
       "                                                   'required_car_parking_space',\n",
       "                                                   'lead_time', 'arrival_year',\n",
       "                                                   'arrival_month',\n",
       "                                                   'arrival_date',\n",
       "                                                   'repeated_guest',\n",
       "                                                   'no_of_previous_cancellations',\n",
       "                                                   'no_of_previous_bookings_not_canceled',\n",
       "                                                   'avg_price_per_room',\n",
       "                                                   'no_of_special_requests']),\n",
       "                                                 ('create_dummies',\n",
       "                                                  Pipeline(steps=[('create_dummies_cats',\n",
       "                                                                   OneHotEncoder(drop='first'))]),\n",
       "                                                  ['type_of_meal_plan',\n",
       "                                                   'room_type_reserved',\n",
       "                                                   'market_segment_type'])])),\n",
       "                ('rf',\n",
       "                 RandomForestClassifier(class_weight='balanced', max_depth=20,\n",
       "                                        max_samples=9000, n_estimators=120))])"
      ]
     },
     "execution_count": 32,
     "metadata": {},
     "output_type": "execute_result"
    }
   ],
   "source": [
    "#definind the parameters for secondary hyperparameter searching\n",
    "param_grid = [{'rf__max_depth': [12, 13, 17, 20],\n",
    "               'rf__n_estimators': [50, 100, 120],\n",
    "               'rf__class_weight': [None, 'balanced', 'balanced_subsample'],\n",
    "               'rf__max_samples': [5000, 7000, 9000]\n",
    "              }]\n",
    "\n",
    "rf_results_2 = GridSearchCV(estimator=rf_pipeline, param_grid=param_grid, scoring='accuracy', refit=True)\n",
    "rf_results_2 = rf_results_2.fit(X_train, y_train)\n",
    "\n",
    "#getting the best estimator for the secondary grid search\n",
    "rf_results_2.best_estimator_"
   ]
  },
  {
   "cell_type": "code",
   "execution_count": 33,
   "metadata": {},
   "outputs": [
    {
     "name": "stdout",
     "output_type": "stream",
     "text": [
      "              precision    recall  f1-score   support\n",
      "\n",
      "    Canceled       0.86      0.82      0.84      2395\n",
      "Not_Canceled       0.91      0.93      0.92      4860\n",
      "\n",
      "    accuracy                           0.90      7255\n",
      "   macro avg       0.89      0.87      0.88      7255\n",
      "weighted avg       0.89      0.90      0.89      7255\n",
      "\n"
     ]
    }
   ],
   "source": [
    "#predicting using the best random forest model\n",
    "rf_yhat = rf_results_2.predict(X_test)\n",
    "\n",
    "print(classification_report(y_test, rf_yhat))"
   ]
  },
  {
   "cell_type": "code",
   "execution_count": 34,
   "metadata": {},
   "outputs": [
    {
     "name": "stdout",
     "output_type": "stream",
     "text": [
      "[[1953  442]\n",
      " [ 319 4541]]\n"
     ]
    }
   ],
   "source": [
    "print(confusion_matrix(y_test, rf_yhat))"
   ]
  },
  {
   "cell_type": "markdown",
   "metadata": {},
   "source": [
    "This model has an accuracy of 90%. The precision, recall and f1 values of the model are pretty good as well. Though these values are greater while prediting \"Not-canceled\" just like all the other models, the values while predicting \"Canceled\" are good as well. This model has the highest accuracy of the three models that are analysed until now. This model is chosen after tuning the hyperparameter search with secondary grid search technique to create the best model. Considering that this model took same amount of time to run as the decision tree model, this model is dar supirior with higher accuracy."
   ]
  },
  {
   "cell_type": "code",
   "execution_count": 35,
   "metadata": {},
   "outputs": [
    {
     "data": {
      "image/png": "[encoded data removed]",
      "text/plain": [
       "<Figure size 432x288 with 1 Axes>"
      ]
     },
     "metadata": {
      "needs_background": "light"
     },
     "output_type": "display_data"
    }
   ],
   "source": [
    "#getting the ROC curve\n",
    "def generate_probs_3(X, model=rf_results_2):\n",
    "    return model.predict_proba(X)[:, 1]\n",
    "\n",
    "def generate_roc_3(y, probs):\n",
    "    fpr, tpr, _ = roc_curve(y, probs)\n",
    "    return fpr, tpr\n",
    " \n",
    "y_test_ROC = y_test.map({'Canceled':0, 'Not_Canceled':1}).astype(int)\n",
    "y_train_ROC = y_train.map({'Canceled':0, 'Not_Canceled':1}).astype(int)\n",
    "\n",
    "fpr_test, tpr_test = generate_roc_3(y_test_ROC, generate_probs_3(X_test))\n",
    "fpr_train, tpr_train = generate_roc_3(y_train_ROC, generate_probs_3(X_train))\n",
    "\n",
    "plt.plot(fpr_test, tpr_test,'-r')\n",
    "plt.plot(fpr_train, tpr_train,'-b')\n",
    "plt.xlabel('False Positive Rate')\n",
    "plt.ylabel('True Positive Rate')\n",
    "plt.legend(['Test','Training'])\n",
    "plt.plot([0, 1], [0, 1], color='navy', linestyle='--')\n",
    "plt.show()"
   ]
  },
  {
   "cell_type": "code",
   "execution_count": 36,
   "metadata": {},
   "outputs": [
    {
     "name": "stdout",
     "output_type": "stream",
     "text": [
      "The ROC-AUC score of this model is 0.9519271115234929\n"
     ]
    }
   ],
   "source": [
    "print(\"The ROC-AUC score of this model is\",roc_auc_score(y_test, generate_probs_3(X_test)))"
   ]
  },
  {
   "cell_type": "markdown",
   "metadata": {},
   "source": [
    "This model has better ROC curve as well. Compared to the previous model's ROC score of 0.93, this model has better ROC score with 0.95. This means that this model can differentiate well between the two classes. Hence this model is by far the better model of all."
   ]
  },
  {
   "cell_type": "markdown",
   "metadata": {},
   "source": [
    "# Gradient Boosting"
   ]
  },
  {
   "cell_type": "code",
   "execution_count": 37,
   "metadata": {},
   "outputs": [
    {
     "name": "stdout",
     "output_type": "stream",
     "text": [
      "Fitting 5 folds for each of 9 candidates, totalling 45 fits\n",
      "[CV] gbc__max_depth=5, gbc__n_estimators=50 ..........................\n"
     ]
    },
    {
     "name": "stderr",
     "output_type": "stream",
     "text": [
      "[Parallel(n_jobs=1)]: Using backend SequentialBackend with 1 concurrent workers.\n"
     ]
    },
    {
     "name": "stdout",
     "output_type": "stream",
     "text": [
      "[CV]  gbc__max_depth=5, gbc__n_estimators=50, score=0.869, total=   5.3s\n",
      "[CV] gbc__max_depth=5, gbc__n_estimators=50 ..........................\n"
     ]
    },
    {
     "name": "stderr",
     "output_type": "stream",
     "text": [
      "[Parallel(n_jobs=1)]: Done   1 out of   1 | elapsed:    5.2s remaining:    0.0s\n"
     ]
    },
    {
     "name": "stdout",
     "output_type": "stream",
     "text": [
      "[CV]  gbc__max_depth=5, gbc__n_estimators=50, score=0.875, total=   4.8s\n",
      "[CV] gbc__max_depth=5, gbc__n_estimators=50 ..........................\n"
     ]
    },
    {
     "name": "stderr",
     "output_type": "stream",
     "text": [
      "[Parallel(n_jobs=1)]: Done   2 out of   2 | elapsed:   10.0s remaining:    0.0s\n"
     ]
    },
    {
     "name": "stdout",
     "output_type": "stream",
     "text": [
      "[CV]  gbc__max_depth=5, gbc__n_estimators=50, score=0.873, total=   4.9s\n",
      "[CV] gbc__max_depth=5, gbc__n_estimators=50 ..........................\n"
     ]
    },
    {
     "name": "stderr",
     "output_type": "stream",
     "text": [
      "[Parallel(n_jobs=1)]: Done   3 out of   3 | elapsed:   14.9s remaining:    0.0s\n"
     ]
    },
    {
     "name": "stdout",
     "output_type": "stream",
     "text": [
      "[CV]  gbc__max_depth=5, gbc__n_estimators=50, score=0.865, total=   4.9s\n",
      "[CV] gbc__max_depth=5, gbc__n_estimators=50 ..........................\n"
     ]
    },
    {
     "name": "stderr",
     "output_type": "stream",
     "text": [
      "[Parallel(n_jobs=1)]: Done   4 out of   4 | elapsed:   19.9s remaining:    0.0s\n"
     ]
    },
    {
     "name": "stdout",
     "output_type": "stream",
     "text": [
      "[CV]  gbc__max_depth=5, gbc__n_estimators=50, score=0.866, total=   4.4s\n",
      "[CV] gbc__max_depth=5, gbc__n_estimators=70 ..........................\n"
     ]
    },
    {
     "name": "stderr",
     "output_type": "stream",
     "text": [
      "[Parallel(n_jobs=1)]: Done   5 out of   5 | elapsed:   24.3s remaining:    0.0s\n"
     ]
    },
    {
     "name": "stdout",
     "output_type": "stream",
     "text": [
      "[CV]  gbc__max_depth=5, gbc__n_estimators=70, score=0.873, total=   6.2s\n",
      "[CV] gbc__max_depth=5, gbc__n_estimators=70 ..........................\n"
     ]
    },
    {
     "name": "stderr",
     "output_type": "stream",
     "text": [
      "[Parallel(n_jobs=1)]: Done   6 out of   6 | elapsed:   30.5s remaining:    0.0s\n"
     ]
    },
    {
     "name": "stdout",
     "output_type": "stream",
     "text": [
      "[CV]  gbc__max_depth=5, gbc__n_estimators=70, score=0.882, total=   5.9s\n",
      "[CV] gbc__max_depth=5, gbc__n_estimators=70 ..........................\n"
     ]
    },
    {
     "name": "stderr",
     "output_type": "stream",
     "text": [
      "[Parallel(n_jobs=1)]: Done   7 out of   7 | elapsed:   36.5s remaining:    0.0s\n"
     ]
    },
    {
     "name": "stdout",
     "output_type": "stream",
     "text": [
      "[CV]  gbc__max_depth=5, gbc__n_estimators=70, score=0.876, total=   5.1s\n",
      "[CV] gbc__max_depth=5, gbc__n_estimators=70 ..........................\n"
     ]
    },
    {
     "name": "stderr",
     "output_type": "stream",
     "text": [
      "[Parallel(n_jobs=1)]: Done   8 out of   8 | elapsed:   41.6s remaining:    0.0s\n"
     ]
    },
    {
     "name": "stdout",
     "output_type": "stream",
     "text": [
      "[CV]  gbc__max_depth=5, gbc__n_estimators=70, score=0.870, total=   5.5s\n",
      "[CV] gbc__max_depth=5, gbc__n_estimators=70 ..........................\n"
     ]
    },
    {
     "name": "stderr",
     "output_type": "stream",
     "text": [
      "[Parallel(n_jobs=1)]: Done   9 out of   9 | elapsed:   47.1s remaining:    0.0s\n"
     ]
    },
    {
     "name": "stdout",
     "output_type": "stream",
     "text": [
      "[CV]  gbc__max_depth=5, gbc__n_estimators=70, score=0.870, total=   5.1s\n",
      "[CV] gbc__max_depth=5, gbc__n_estimators=100 .........................\n",
      "[CV]  gbc__max_depth=5, gbc__n_estimators=100, score=0.877, total=   7.3s\n",
      "[CV] gbc__max_depth=5, gbc__n_estimators=100 .........................\n",
      "[CV]  gbc__max_depth=5, gbc__n_estimators=100, score=0.886, total=   7.4s\n",
      "[CV] gbc__max_depth=5, gbc__n_estimators=100 .........................\n",
      "[CV]  gbc__max_depth=5, gbc__n_estimators=100, score=0.877, total=   7.8s\n",
      "[CV] gbc__max_depth=5, gbc__n_estimators=100 .........................\n",
      "[CV]  gbc__max_depth=5, gbc__n_estimators=100, score=0.875, total=   8.3s\n",
      "[CV] gbc__max_depth=5, gbc__n_estimators=100 .........................\n",
      "[CV]  gbc__max_depth=5, gbc__n_estimators=100, score=0.875, total=   7.4s\n",
      "[CV] gbc__max_depth=8, gbc__n_estimators=50 ..........................\n",
      "[CV]  gbc__max_depth=8, gbc__n_estimators=50, score=0.888, total=   5.7s\n",
      "[CV] gbc__max_depth=8, gbc__n_estimators=50 ..........................\n",
      "[CV]  gbc__max_depth=8, gbc__n_estimators=50, score=0.896, total=   5.7s\n",
      "[CV] gbc__max_depth=8, gbc__n_estimators=50 ..........................\n",
      "[CV]  gbc__max_depth=8, gbc__n_estimators=50, score=0.889, total=   5.7s\n",
      "[CV] gbc__max_depth=8, gbc__n_estimators=50 ..........................\n",
      "[CV]  gbc__max_depth=8, gbc__n_estimators=50, score=0.885, total=   6.1s\n",
      "[CV] gbc__max_depth=8, gbc__n_estimators=50 ..........................\n",
      "[CV]  gbc__max_depth=8, gbc__n_estimators=50, score=0.884, total=   7.4s\n",
      "[CV] gbc__max_depth=8, gbc__n_estimators=70 ..........................\n",
      "[CV]  gbc__max_depth=8, gbc__n_estimators=70, score=0.891, total=  12.9s\n",
      "[CV] gbc__max_depth=8, gbc__n_estimators=70 ..........................\n",
      "[CV]  gbc__max_depth=8, gbc__n_estimators=70, score=0.897, total=  14.9s\n",
      "[CV] gbc__max_depth=8, gbc__n_estimators=70 ..........................\n",
      "[CV]  gbc__max_depth=8, gbc__n_estimators=70, score=0.890, total=  13.3s\n",
      "[CV] gbc__max_depth=8, gbc__n_estimators=70 ..........................\n",
      "[CV]  gbc__max_depth=8, gbc__n_estimators=70, score=0.888, total=  10.7s\n",
      "[CV] gbc__max_depth=8, gbc__n_estimators=70 ..........................\n",
      "[CV]  gbc__max_depth=8, gbc__n_estimators=70, score=0.889, total=   8.8s\n",
      "[CV] gbc__max_depth=8, gbc__n_estimators=100 .........................\n",
      "[CV]  gbc__max_depth=8, gbc__n_estimators=100, score=0.895, total=  13.5s\n",
      "[CV] gbc__max_depth=8, gbc__n_estimators=100 .........................\n",
      "[CV]  gbc__max_depth=8, gbc__n_estimators=100, score=0.900, total=  13.4s\n",
      "[CV] gbc__max_depth=8, gbc__n_estimators=100 .........................\n",
      "[CV]  gbc__max_depth=8, gbc__n_estimators=100, score=0.894, total=  13.7s\n",
      "[CV] gbc__max_depth=8, gbc__n_estimators=100 .........................\n",
      "[CV]  gbc__max_depth=8, gbc__n_estimators=100, score=0.894, total=  13.2s\n",
      "[CV] gbc__max_depth=8, gbc__n_estimators=100 .........................\n",
      "[CV]  gbc__max_depth=8, gbc__n_estimators=100, score=0.890, total=  14.2s\n",
      "[CV] gbc__max_depth=20, gbc__n_estimators=50 .........................\n",
      "[CV]  gbc__max_depth=20, gbc__n_estimators=50, score=0.888, total=  26.7s\n",
      "[CV] gbc__max_depth=20, gbc__n_estimators=50 .........................\n",
      "[CV]  gbc__max_depth=20, gbc__n_estimators=50, score=0.883, total=  28.3s\n",
      "[CV] gbc__max_depth=20, gbc__n_estimators=50 .........................\n",
      "[CV]  gbc__max_depth=20, gbc__n_estimators=50, score=0.888, total=  31.3s\n",
      "[CV] gbc__max_depth=20, gbc__n_estimators=50 .........................\n",
      "[CV]  gbc__max_depth=20, gbc__n_estimators=50, score=0.877, total=  27.8s\n",
      "[CV] gbc__max_depth=20, gbc__n_estimators=50 .........................\n",
      "[CV]  gbc__max_depth=20, gbc__n_estimators=50, score=0.888, total=  30.2s\n",
      "[CV] gbc__max_depth=20, gbc__n_estimators=70 .........................\n",
      "[CV]  gbc__max_depth=20, gbc__n_estimators=70, score=0.888, total=  41.0s\n",
      "[CV] gbc__max_depth=20, gbc__n_estimators=70 .........................\n",
      "[CV]  gbc__max_depth=20, gbc__n_estimators=70, score=0.883, total=  42.0s\n",
      "[CV] gbc__max_depth=20, gbc__n_estimators=70 .........................\n",
      "[CV]  gbc__max_depth=20, gbc__n_estimators=70, score=0.889, total=  41.2s\n",
      "[CV] gbc__max_depth=20, gbc__n_estimators=70 .........................\n",
      "[CV]  gbc__max_depth=20, gbc__n_estimators=70, score=0.881, total=  48.5s\n",
      "[CV] gbc__max_depth=20, gbc__n_estimators=70 .........................\n",
      "[CV]  gbc__max_depth=20, gbc__n_estimators=70, score=0.887, total=  52.7s\n",
      "[CV] gbc__max_depth=20, gbc__n_estimators=100 ........................\n",
      "[CV]  gbc__max_depth=20, gbc__n_estimators=100, score=0.891, total= 1.2min\n",
      "[CV] gbc__max_depth=20, gbc__n_estimators=100 ........................\n",
      "[CV]  gbc__max_depth=20, gbc__n_estimators=100, score=0.887, total= 1.2min\n",
      "[CV] gbc__max_depth=20, gbc__n_estimators=100 ........................\n",
      "[CV]  gbc__max_depth=20, gbc__n_estimators=100, score=0.892, total=  59.5s\n",
      "[CV] gbc__max_depth=20, gbc__n_estimators=100 ........................\n",
      "[CV]  gbc__max_depth=20, gbc__n_estimators=100, score=0.883, total= 1.2min\n",
      "[CV] gbc__max_depth=20, gbc__n_estimators=100 ........................\n",
      "[CV]  gbc__max_depth=20, gbc__n_estimators=100, score=0.892, total= 1.0min\n"
     ]
    },
    {
     "name": "stderr",
     "output_type": "stream",
     "text": [
      "[Parallel(n_jobs=1)]: Done  45 out of  45 | elapsed: 16.0min finished\n"
     ]
    },
    {
     "data": {
      "text/plain": [
       "Pipeline(steps=[('data_processing',\n",
       "                 ColumnTransformer(transformers=[('proc_numeric',\n",
       "                                                  Pipeline(steps=[('standardize_num',\n",
       "                                                                   StandardScaler())]),\n",
       "                                                  ['no_of_adults',\n",
       "                                                   'no_of_children',\n",
       "                                                   'no_of_weekend_nights',\n",
       "                                                   'no_of_week_nights',\n",
       "                                                   'required_car_parking_space',\n",
       "                                                   'lead_time', 'arrival_year',\n",
       "                                                   'arrival_month',\n",
       "                                                   'arrival_date',\n",
       "                                                   'repeated_guest',\n",
       "                                                   'no_of_previous_cancellations',\n",
       "                                                   'no_of_previous_bookings_not_canceled',\n",
       "                                                   'avg_price_per_room',\n",
       "                                                   'no_of_special_requests']),\n",
       "                                                 ('create_dummies',\n",
       "                                                  Pipeline(steps=[('create_dummies_cats',\n",
       "                                                                   OneHotEncoder(drop='first'))]),\n",
       "                                                  ['type_of_meal_plan',\n",
       "                                                   'room_type_reserved',\n",
       "                                                   'market_segment_type'])])),\n",
       "                ('gbc', GradientBoostingClassifier(max_depth=8))])"
      ]
     },
     "execution_count": 37,
     "metadata": {},
     "output_type": "execute_result"
    }
   ],
   "source": [
    "from sklearn.ensemble import GradientBoostingClassifier\n",
    "\n",
    "#creating a pipeline that consists of data processing pipeline that was assigned before and a gradient boosting classifier.\n",
    "gb_pipeline = Pipeline([('data_processing', processing_pipeline),\n",
    "                        ('gbc', GradientBoostingClassifier())])\n",
    "\n",
    "\n",
    "#Defining the parameters for grid search\n",
    "params = [{'gbc__max_depth': [5, 8, 20],\n",
    "               'gbc__n_estimators': [50, 70, 100]\n",
    "              }]\n",
    "\n",
    "gb_results = GridSearchCV(gb_pipeline,\n",
    "                         param_grid = params, cv = 5,\n",
    "                         scoring = 'accuracy', verbose = 10)\n",
    "\n",
    "gb_results = gb_results.fit(X_train, y_train)\n",
    "\n",
    "#Finding the best estimator\n",
    "gb_results.best_estimator_"
   ]
  },
  {
   "cell_type": "code",
   "execution_count": 38,
   "metadata": {},
   "outputs": [
    {
     "name": "stdout",
     "output_type": "stream",
     "text": [
      "Fitting 5 folds for each of 9 candidates, totalling 45 fits\n",
      "[CV] gbc__max_depth=8, gbc__n_estimators=100 .........................\n"
     ]
    },
    {
     "name": "stderr",
     "output_type": "stream",
     "text": [
      "[Parallel(n_jobs=1)]: Using backend SequentialBackend with 1 concurrent workers.\n"
     ]
    },
    {
     "name": "stdout",
     "output_type": "stream",
     "text": [
      "[CV]  gbc__max_depth=8, gbc__n_estimators=100, score=0.895, total=  15.7s\n",
      "[CV] gbc__max_depth=8, gbc__n_estimators=100 .........................\n"
     ]
    },
    {
     "name": "stderr",
     "output_type": "stream",
     "text": [
      "[Parallel(n_jobs=1)]: Done   1 out of   1 | elapsed:   15.6s remaining:    0.0s\n"
     ]
    },
    {
     "name": "stdout",
     "output_type": "stream",
     "text": [
      "[CV]  gbc__max_depth=8, gbc__n_estimators=100, score=0.899, total=  13.7s\n",
      "[CV] gbc__max_depth=8, gbc__n_estimators=100 .........................\n"
     ]
    },
    {
     "name": "stderr",
     "output_type": "stream",
     "text": [
      "[Parallel(n_jobs=1)]: Done   2 out of   2 | elapsed:   29.3s remaining:    0.0s\n"
     ]
    },
    {
     "name": "stdout",
     "output_type": "stream",
     "text": [
      "[CV]  gbc__max_depth=8, gbc__n_estimators=100, score=0.893, total=  14.5s\n",
      "[CV] gbc__max_depth=8, gbc__n_estimators=100 .........................\n"
     ]
    },
    {
     "name": "stderr",
     "output_type": "stream",
     "text": [
      "[Parallel(n_jobs=1)]: Done   3 out of   3 | elapsed:   43.7s remaining:    0.0s\n"
     ]
    },
    {
     "name": "stdout",
     "output_type": "stream",
     "text": [
      "[CV]  gbc__max_depth=8, gbc__n_estimators=100, score=0.895, total=  16.3s\n",
      "[CV] gbc__max_depth=8, gbc__n_estimators=100 .........................\n"
     ]
    },
    {
     "name": "stderr",
     "output_type": "stream",
     "text": [
      "[Parallel(n_jobs=1)]: Done   4 out of   4 | elapsed:  1.0min remaining:    0.0s\n"
     ]
    },
    {
     "name": "stdout",
     "output_type": "stream",
     "text": [
      "[CV]  gbc__max_depth=8, gbc__n_estimators=100, score=0.890, total=  15.6s\n",
      "[CV] gbc__max_depth=8, gbc__n_estimators=120 .........................\n"
     ]
    },
    {
     "name": "stderr",
     "output_type": "stream",
     "text": [
      "[Parallel(n_jobs=1)]: Done   5 out of   5 | elapsed:  1.3min remaining:    0.0s\n"
     ]
    },
    {
     "name": "stdout",
     "output_type": "stream",
     "text": [
      "[CV]  gbc__max_depth=8, gbc__n_estimators=120, score=0.893, total=  20.6s\n",
      "[CV] gbc__max_depth=8, gbc__n_estimators=120 .........................\n"
     ]
    },
    {
     "name": "stderr",
     "output_type": "stream",
     "text": [
      "[Parallel(n_jobs=1)]: Done   6 out of   6 | elapsed:  1.6min remaining:    0.0s\n"
     ]
    },
    {
     "name": "stdout",
     "output_type": "stream",
     "text": [
      "[CV]  gbc__max_depth=8, gbc__n_estimators=120, score=0.905, total=  18.0s\n",
      "[CV] gbc__max_depth=8, gbc__n_estimators=120 .........................\n"
     ]
    },
    {
     "name": "stderr",
     "output_type": "stream",
     "text": [
      "[Parallel(n_jobs=1)]: Done   7 out of   7 | elapsed:  1.9min remaining:    0.0s\n"
     ]
    },
    {
     "name": "stdout",
     "output_type": "stream",
     "text": [
      "[CV]  gbc__max_depth=8, gbc__n_estimators=120, score=0.895, total=  18.1s\n",
      "[CV] gbc__max_depth=8, gbc__n_estimators=120 .........................\n"
     ]
    },
    {
     "name": "stderr",
     "output_type": "stream",
     "text": [
      "[Parallel(n_jobs=1)]: Done   8 out of   8 | elapsed:  2.2min remaining:    0.0s\n"
     ]
    },
    {
     "name": "stdout",
     "output_type": "stream",
     "text": [
      "[CV]  gbc__max_depth=8, gbc__n_estimators=120, score=0.893, total=  18.9s\n",
      "[CV] gbc__max_depth=8, gbc__n_estimators=120 .........................\n"
     ]
    },
    {
     "name": "stderr",
     "output_type": "stream",
     "text": [
      "[Parallel(n_jobs=1)]: Done   9 out of   9 | elapsed:  2.5min remaining:    0.0s\n"
     ]
    },
    {
     "name": "stdout",
     "output_type": "stream",
     "text": [
      "[CV]  gbc__max_depth=8, gbc__n_estimators=120, score=0.893, total=  17.2s\n",
      "[CV] gbc__max_depth=8, gbc__n_estimators=150 .........................\n",
      "[CV]  gbc__max_depth=8, gbc__n_estimators=150, score=0.894, total=  19.4s\n",
      "[CV] gbc__max_depth=8, gbc__n_estimators=150 .........................\n",
      "[CV]  gbc__max_depth=8, gbc__n_estimators=150, score=0.903, total=  19.5s\n",
      "[CV] gbc__max_depth=8, gbc__n_estimators=150 .........................\n",
      "[CV]  gbc__max_depth=8, gbc__n_estimators=150, score=0.900, total=  20.7s\n",
      "[CV] gbc__max_depth=8, gbc__n_estimators=150 .........................\n",
      "[CV]  gbc__max_depth=8, gbc__n_estimators=150, score=0.895, total=  21.6s\n",
      "[CV] gbc__max_depth=8, gbc__n_estimators=150 .........................\n",
      "[CV]  gbc__max_depth=8, gbc__n_estimators=150, score=0.890, total=  21.1s\n",
      "[CV] gbc__max_depth=10, gbc__n_estimators=100 ........................\n",
      "[CV]  gbc__max_depth=10, gbc__n_estimators=100, score=0.899, total=  19.7s\n",
      "[CV] gbc__max_depth=10, gbc__n_estimators=100 ........................\n",
      "[CV]  gbc__max_depth=10, gbc__n_estimators=100, score=0.905, total=  16.7s\n",
      "[CV] gbc__max_depth=10, gbc__n_estimators=100 ........................\n",
      "[CV]  gbc__max_depth=10, gbc__n_estimators=100, score=0.899, total=  17.4s\n",
      "[CV] gbc__max_depth=10, gbc__n_estimators=100 ........................\n",
      "[CV]  gbc__max_depth=10, gbc__n_estimators=100, score=0.896, total=  19.1s\n",
      "[CV] gbc__max_depth=10, gbc__n_estimators=100 ........................\n",
      "[CV]  gbc__max_depth=10, gbc__n_estimators=100, score=0.896, total=  17.1s\n",
      "[CV] gbc__max_depth=10, gbc__n_estimators=120 ........................\n",
      "[CV]  gbc__max_depth=10, gbc__n_estimators=120, score=0.899, total=  18.8s\n",
      "[CV] gbc__max_depth=10, gbc__n_estimators=120 ........................\n",
      "[CV]  gbc__max_depth=10, gbc__n_estimators=120, score=0.906, total=  20.4s\n",
      "[CV] gbc__max_depth=10, gbc__n_estimators=120 ........................\n",
      "[CV]  gbc__max_depth=10, gbc__n_estimators=120, score=0.898, total=  19.4s\n",
      "[CV] gbc__max_depth=10, gbc__n_estimators=120 ........................\n",
      "[CV]  gbc__max_depth=10, gbc__n_estimators=120, score=0.895, total=  19.8s\n",
      "[CV] gbc__max_depth=10, gbc__n_estimators=120 ........................\n",
      "[CV]  gbc__max_depth=10, gbc__n_estimators=120, score=0.895, total=  19.2s\n",
      "[CV] gbc__max_depth=10, gbc__n_estimators=150 ........................\n",
      "[CV]  gbc__max_depth=10, gbc__n_estimators=150, score=0.900, total=  24.6s\n",
      "[CV] gbc__max_depth=10, gbc__n_estimators=150 ........................\n",
      "[CV]  gbc__max_depth=10, gbc__n_estimators=150, score=0.900, total=  32.2s\n",
      "[CV] gbc__max_depth=10, gbc__n_estimators=150 ........................\n",
      "[CV]  gbc__max_depth=10, gbc__n_estimators=150, score=0.900, total=  25.9s\n",
      "[CV] gbc__max_depth=10, gbc__n_estimators=150 ........................\n",
      "[CV]  gbc__max_depth=10, gbc__n_estimators=150, score=0.897, total=  25.2s\n",
      "[CV] gbc__max_depth=10, gbc__n_estimators=150 ........................\n",
      "[CV]  gbc__max_depth=10, gbc__n_estimators=150, score=0.897, total=  25.0s\n",
      "[CV] gbc__max_depth=20, gbc__n_estimators=100 ........................\n",
      "[CV]  gbc__max_depth=20, gbc__n_estimators=100, score=0.892, total=  59.2s\n",
      "[CV] gbc__max_depth=20, gbc__n_estimators=100 ........................\n",
      "[CV]  gbc__max_depth=20, gbc__n_estimators=100, score=0.887, total=  59.7s\n",
      "[CV] gbc__max_depth=20, gbc__n_estimators=100 ........................\n",
      "[CV]  gbc__max_depth=20, gbc__n_estimators=100, score=0.893, total= 1.1min\n",
      "[CV] gbc__max_depth=20, gbc__n_estimators=100 ........................\n",
      "[CV]  gbc__max_depth=20, gbc__n_estimators=100, score=0.884, total=  59.1s\n",
      "[CV] gbc__max_depth=20, gbc__n_estimators=100 ........................\n",
      "[CV]  gbc__max_depth=20, gbc__n_estimators=100, score=0.895, total= 1.1min\n",
      "[CV] gbc__max_depth=20, gbc__n_estimators=120 ........................\n",
      "[CV]  gbc__max_depth=20, gbc__n_estimators=120, score=0.890, total= 1.3min\n",
      "[CV] gbc__max_depth=20, gbc__n_estimators=120 ........................\n",
      "[CV]  gbc__max_depth=20, gbc__n_estimators=120, score=0.888, total= 1.2min\n",
      "[CV] gbc__max_depth=20, gbc__n_estimators=120 ........................\n",
      "[CV]  gbc__max_depth=20, gbc__n_estimators=120, score=0.893, total= 1.3min\n",
      "[CV] gbc__max_depth=20, gbc__n_estimators=120 ........................\n",
      "[CV]  gbc__max_depth=20, gbc__n_estimators=120, score=0.887, total= 1.3min\n",
      "[CV] gbc__max_depth=20, gbc__n_estimators=120 ........................\n",
      "[CV]  gbc__max_depth=20, gbc__n_estimators=120, score=0.888, total= 1.4min\n",
      "[CV] gbc__max_depth=20, gbc__n_estimators=150 ........................\n",
      "[CV]  gbc__max_depth=20, gbc__n_estimators=150, score=0.891, total= 1.7min\n",
      "[CV] gbc__max_depth=20, gbc__n_estimators=150 ........................\n",
      "[CV]  gbc__max_depth=20, gbc__n_estimators=150, score=0.892, total= 1.8min\n",
      "[CV] gbc__max_depth=20, gbc__n_estimators=150 ........................\n",
      "[CV]  gbc__max_depth=20, gbc__n_estimators=150, score=0.893, total= 1.7min\n",
      "[CV] gbc__max_depth=20, gbc__n_estimators=150 ........................\n",
      "[CV]  gbc__max_depth=20, gbc__n_estimators=150, score=0.891, total= 2.0min\n",
      "[CV] gbc__max_depth=20, gbc__n_estimators=150 ........................\n",
      "[CV]  gbc__max_depth=20, gbc__n_estimators=150, score=0.892, total= 1.7min\n"
     ]
    },
    {
     "name": "stderr",
     "output_type": "stream",
     "text": [
      "[Parallel(n_jobs=1)]: Done  45 out of  45 | elapsed: 30.5min finished\n"
     ]
    },
    {
     "data": {
      "text/plain": [
       "Pipeline(steps=[('data_processing',\n",
       "                 ColumnTransformer(transformers=[('proc_numeric',\n",
       "                                                  Pipeline(steps=[('standardize_num',\n",
       "                                                                   StandardScaler())]),\n",
       "                                                  ['no_of_adults',\n",
       "                                                   'no_of_children',\n",
       "                                                   'no_of_weekend_nights',\n",
       "                                                   'no_of_week_nights',\n",
       "                                                   'required_car_parking_space',\n",
       "                                                   'lead_time', 'arrival_year',\n",
       "                                                   'arrival_month',\n",
       "                                                   'arrival_date',\n",
       "                                                   'repeated_guest',\n",
       "                                                   'no_of_previous_cancellations',\n",
       "                                                   'no_of_previous_bookings_not_canceled',\n",
       "                                                   'avg_price_per_room',\n",
       "                                                   'no_of_special_requests']),\n",
       "                                                 ('create_dummies',\n",
       "                                                  Pipeline(steps=[('create_dummies_cats',\n",
       "                                                                   OneHotEncoder(drop='first'))]),\n",
       "                                                  ['type_of_meal_plan',\n",
       "                                                   'room_type_reserved',\n",
       "                                                   'market_segment_type'])])),\n",
       "                ('gbc', GradientBoostingClassifier(max_depth=10))])"
      ]
     },
     "execution_count": 38,
     "metadata": {},
     "output_type": "execute_result"
    }
   ],
   "source": [
    "#Performing a secondary grid search for better results\n",
    "params = [{'gbc__max_depth': [8, 10, 20],\n",
    "               'gbc__n_estimators': [100, 120, 150]\n",
    "              }]\n",
    "\n",
    "gb_results_2 = GridSearchCV(gb_pipeline,\n",
    "                         param_grid = params, cv = 5,\n",
    "                         scoring = 'accuracy', verbose = 10)\n",
    "\n",
    "gb_results_2 = gb_results_2.fit(X_train, y_train)\n",
    "\n",
    "#Finding the best estimator\n",
    "gb_results_2.best_estimator_"
   ]
  },
  {
   "cell_type": "code",
   "execution_count": 39,
   "metadata": {},
   "outputs": [
    {
     "name": "stdout",
     "output_type": "stream",
     "text": [
      "              precision    recall  f1-score   support\n",
      "\n",
      "    Canceled       0.87      0.81      0.84      2395\n",
      "Not_Canceled       0.91      0.94      0.92      4860\n",
      "\n",
      "    accuracy                           0.90      7255\n",
      "   macro avg       0.89      0.88      0.88      7255\n",
      "weighted avg       0.90      0.90      0.90      7255\n",
      "\n"
     ]
    }
   ],
   "source": [
    "gb_yhat = gb_results_2.predict(X_test)\n",
    "\n",
    "print(classification_report(y_test, gb_yhat))"
   ]
  },
  {
   "cell_type": "code",
   "execution_count": 40,
   "metadata": {},
   "outputs": [
    {
     "name": "stdout",
     "output_type": "stream",
     "text": [
      "[[1942  453]\n",
      " [ 295 4565]]\n"
     ]
    }
   ],
   "source": [
    "print(confusion_matrix(y_test, gb_yhat))"
   ]
  },
  {
   "cell_type": "markdown",
   "metadata": {},
   "source": [
    "This model got an accuracy of 90%. This is a pretty good score for this model. The precision, recall and f1-score values are good as well. Compared to the current best model, Random forest, this model took around 15 minutes to run, for a dataset of this size, this model takes huge computational power to execute, which is not desirable unless it has a very high accuracy or precision values."
   ]
  },
  {
   "cell_type": "code",
   "execution_count": 41,
   "metadata": {},
   "outputs": [
    {
     "data": {
      "image/png": "[encoded data removed]",
      "text/plain": [
       "<Figure size 432x288 with 1 Axes>"
      ]
     },
     "metadata": {
      "needs_background": "light"
     },
     "output_type": "display_data"
    }
   ],
   "source": [
    "from sklearn.metrics import roc_curve\n",
    "\n",
    "def generate_probs_4(X, model=gb_results_2):\n",
    "    return model.predict_proba(X)[:, 1]\n",
    "\n",
    "def generate_roc_4(y, probs):\n",
    "    fpr, tpr, _ = roc_curve(y, probs)\n",
    "    return fpr, tpr\n",
    " \n",
    "y_test_ROC = y_test.map({'Canceled':0, 'Not_Canceled':1}).astype(int)\n",
    "y_train_ROC = y_train.map({'Canceled':0, 'Not_Canceled':1}).astype(int)\n",
    "\n",
    "fpr_test, tpr_test = generate_roc_4(y_test_ROC, generate_probs_4(X_test))\n",
    "fpr_train, tpr_train = generate_roc_4(y_train_ROC, generate_probs_4(X_train))\n",
    "\n",
    "plt.plot(fpr_test, tpr_test,'-r')\n",
    "plt.plot(fpr_train, tpr_train,'-b')\n",
    "plt.xlabel('False Positive Rate')\n",
    "plt.ylabel('True Positive Rate')\n",
    "plt.legend(['Test','Training'])\n",
    "plt.plot([0, 1], [0, 1], color='navy', linestyle='--')\n",
    "plt.show()"
   ]
  },
  {
   "cell_type": "code",
   "execution_count": 42,
   "metadata": {},
   "outputs": [
    {
     "name": "stdout",
     "output_type": "stream",
     "text": [
      "The ROC-AUC score of this model is 0.9587292198252533\n"
     ]
    }
   ],
   "source": [
    "print(\"The ROC-AUC score of this model is\",roc_auc_score(y_test, generate_probs_4(X_test)))"
   ]
  },
  {
   "cell_type": "markdown",
   "metadata": {},
   "source": [
    "The ROC score of this model is 0.95 which is similar to that of random forest. Due to the computational effort to run this model and the similar accuracy wiht the less demanding random forest classifier, this model is not prefered for this usecase."
   ]
  },
  {
   "cell_type": "code",
   "execution_count": null,
   "metadata": {},
   "outputs": [],
   "source": []
  }
 ],
 "metadata": {
  "kernelspec": {
   "display_name": "Python 3",
   "language": "python",
   "name": "python3"
  },
  "language_info": {
   "codemirror_mode": {
    "name": "ipython",
    "version": 3
   },
   "file_extension": ".py",
   "mimetype": "text/x-python",
   "name": "python",
   "nbconvert_exporter": "python",
   "pygments_lexer": "ipython3",
   "version": "3.8.3"
  }
 },
 "nbformat": 4,
 "nbformat_minor": 4
}
